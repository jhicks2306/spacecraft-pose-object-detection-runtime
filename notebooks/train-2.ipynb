{
 "cells": [
  {
   "cell_type": "markdown",
   "id": "cf773b15-b7af-4a44-a129-cc6be292be41",
   "metadata": {},
   "source": [
    "# Pose Bowl: Object Detection\n"
   ]
  },
  {
   "cell_type": "markdown",
   "id": "5c626ad9-d5d7-4e72-a36d-15d5d5fdcbc1",
   "metadata": {},
   "source": [
    "<a id=\"import-libraries\"></a>\n",
    "\n",
    "## 📚 | Import Libraries "
   ]
  },
  {
   "cell_type": "code",
   "execution_count": 1,
   "id": "199a0ba1",
   "metadata": {},
   "outputs": [],
   "source": [
    "from pathlib import Path\n",
    "import numpy as np\n",
    "import pandas as pd\n",
    "\n",
    "import cv2\n",
    "import matplotlib.pyplot as plt\n",
    "from matplotlib.patches import Rectangle\n",
    "\n",
    "import torch\n",
    "from torch.utils.data import DataLoader\n",
    "import torchvision\n",
    "from torchvision.io import read_image\n",
    "from torchvision import tv_tensors\n",
    "import utils"
   ]
  },
  {
   "cell_type": "markdown",
   "id": "16b90020",
   "metadata": {},
   "source": [
    "<a id=\"configuration\"></a>\n",
    "## ⚙️ | Configuration"
   ]
  },
  {
   "cell_type": "code",
   "execution_count": 2,
   "id": "0b689a9b",
   "metadata": {},
   "outputs": [],
   "source": [
    "PROJ_DIRECTORY = Path.cwd().parent\n",
    "DATA_DIRECTORY = PROJ_DIRECTORY / \"data\"\n",
    "DEV_DIRECTORY = PROJ_DIRECTORY / \"data_dev\"\n",
    "IMAGES_DIRECTORY = DEV_DIRECTORY / \"images\""
   ]
  },
  {
   "cell_type": "markdown",
   "id": "c6ecf4e5",
   "metadata": {},
   "source": [
    "## 🩼 | Helper Functions"
   ]
  },
  {
   "cell_type": "code",
   "execution_count": 116,
   "id": "7509e636",
   "metadata": {},
   "outputs": [],
   "source": [
    "def get_bbox(image_id, labels):\n",
    "    \"\"\"Get bbox coordinates as list from dataframe for given image id.\"\"\"\n",
    "    return labels.loc[image_id].loc[[\"xmin\", \"ymin\", \"xmax\", \"ymax\"]].values\n",
    "\n",
    "def display_image(image_id, images_dir=IMAGES_DIRECTORY, show_bbox=False, labels=None):\n",
    "    \"\"\"Display image given image ID. Annotate with bounding box if `show_bbox` is True.\"\"\"\n",
    "    img = cv2.imread(str(images_dir / f\"{image_id}.png\"))\n",
    "    fig, ax = plt.subplots()\n",
    "    # cv2 reads images as BGR order; we should flip them to RGB for matplotlib\n",
    "    # ref: https://stackoverflow.com/questions/54959387/rgb-image-display-in-matplotlib-plt-imshow-returns-a-blue-image\n",
    "    ax.imshow(np.flip(img, axis=-1))\n",
    "\n",
    "    if show_bbox:\n",
    "        xmin, ymin, xmax, ymax = get_bbox(image_id, labels)\n",
    "        patch = Rectangle((xmin, ymin), xmax - xmin, ymax - ymin, fill=False, edgecolor='white', linewidth=1)\n",
    "        ax.add_patch(patch)"
   ]
  },
  {
   "cell_type": "markdown",
   "id": "a6f471d0",
   "metadata": {},
   "source": [
    "<a id=\"datasets\"></a>\n",
    "## 🍚 | DataSets"
   ]
  },
  {
   "cell_type": "code",
   "execution_count": 117,
   "id": "49af6b3e",
   "metadata": {},
   "outputs": [],
   "source": [
    "train_meta = pd.read_csv(DEV_DIRECTORY / \"train_metadata.csv\", index_col=\"image_id\")\n",
    "train_labels = pd.read_csv(DEV_DIRECTORY / \"train_labels.csv\", index_col=\"image_id\")"
   ]
  },
  {
   "cell_type": "code",
   "execution_count": 118,
   "id": "f6fed443",
   "metadata": {},
   "outputs": [
    {
     "data": {
      "text/plain": [
       "((25801, 2), (25801, 4))"
      ]
     },
     "execution_count": 118,
     "metadata": {},
     "output_type": "execute_result"
    }
   ],
   "source": [
    "train_meta.shape, train_labels.shape"
   ]
  },
  {
   "cell_type": "code",
   "execution_count": 119,
   "id": "332b35d9",
   "metadata": {},
   "outputs": [
    {
     "data": {
      "text/html": [
       "<div>\n",
       "<style scoped>\n",
       "    .dataframe tbody tr th:only-of-type {\n",
       "        vertical-align: middle;\n",
       "    }\n",
       "\n",
       "    .dataframe tbody tr th {\n",
       "        vertical-align: top;\n",
       "    }\n",
       "\n",
       "    .dataframe thead th {\n",
       "        text-align: right;\n",
       "    }\n",
       "</style>\n",
       "<table border=\"1\" class=\"dataframe\">\n",
       "  <thead>\n",
       "    <tr style=\"text-align: right;\">\n",
       "      <th></th>\n",
       "      <th>xmin</th>\n",
       "      <th>ymin</th>\n",
       "      <th>xmax</th>\n",
       "      <th>ymax</th>\n",
       "    </tr>\n",
       "    <tr>\n",
       "      <th>image_id</th>\n",
       "      <th></th>\n",
       "      <th></th>\n",
       "      <th></th>\n",
       "      <th></th>\n",
       "    </tr>\n",
       "  </thead>\n",
       "  <tbody>\n",
       "    <tr>\n",
       "      <th>0001954c9f4a58f7ac05358b3cda8d20</th>\n",
       "      <td>0</td>\n",
       "      <td>277</td>\n",
       "      <td>345</td>\n",
       "      <td>709</td>\n",
       "    </tr>\n",
       "    <tr>\n",
       "      <th>00054819240f9d46378288b215dbcd3a</th>\n",
       "      <td>753</td>\n",
       "      <td>602</td>\n",
       "      <td>932</td>\n",
       "      <td>725</td>\n",
       "    </tr>\n",
       "    <tr>\n",
       "      <th>000dbf763348037b46558bbcb6a032ac</th>\n",
       "      <td>160</td>\n",
       "      <td>434</td>\n",
       "      <td>203</td>\n",
       "      <td>481</td>\n",
       "    </tr>\n",
       "    <tr>\n",
       "      <th>000e79208bebd8e84ce6c22fd8612a0d</th>\n",
       "      <td>70</td>\n",
       "      <td>534</td>\n",
       "      <td>211</td>\n",
       "      <td>586</td>\n",
       "    </tr>\n",
       "    <tr>\n",
       "      <th>000f13aff94499d03e3997afc55b0aa0</th>\n",
       "      <td>103</td>\n",
       "      <td>0</td>\n",
       "      <td>312</td>\n",
       "      <td>193</td>\n",
       "    </tr>\n",
       "  </tbody>\n",
       "</table>\n",
       "</div>"
      ],
      "text/plain": [
       "                                  xmin  ymin  xmax  ymax\n",
       "image_id                                                \n",
       "0001954c9f4a58f7ac05358b3cda8d20     0   277   345   709\n",
       "00054819240f9d46378288b215dbcd3a   753   602   932   725\n",
       "000dbf763348037b46558bbcb6a032ac   160   434   203   481\n",
       "000e79208bebd8e84ce6c22fd8612a0d    70   534   211   586\n",
       "000f13aff94499d03e3997afc55b0aa0   103     0   312   193"
      ]
     },
     "execution_count": 119,
     "metadata": {},
     "output_type": "execute_result"
    }
   ],
   "source": [
    "train_labels.head()"
   ]
  },
  {
   "cell_type": "code",
   "execution_count": 120,
   "id": "e43aea47",
   "metadata": {},
   "outputs": [
    {
     "data": {
      "text/html": [
       "<div>\n",
       "<style scoped>\n",
       "    .dataframe tbody tr th:only-of-type {\n",
       "        vertical-align: middle;\n",
       "    }\n",
       "\n",
       "    .dataframe tbody tr th {\n",
       "        vertical-align: top;\n",
       "    }\n",
       "\n",
       "    .dataframe thead th {\n",
       "        text-align: right;\n",
       "    }\n",
       "</style>\n",
       "<table border=\"1\" class=\"dataframe\">\n",
       "  <thead>\n",
       "    <tr style=\"text-align: right;\">\n",
       "      <th></th>\n",
       "      <th>spacecraft_id</th>\n",
       "      <th>background_id</th>\n",
       "    </tr>\n",
       "    <tr>\n",
       "      <th>image_id</th>\n",
       "      <th></th>\n",
       "      <th></th>\n",
       "    </tr>\n",
       "  </thead>\n",
       "  <tbody>\n",
       "    <tr>\n",
       "      <th>0001954c9f4a58f7ac05358b3cda8d20</th>\n",
       "      <td>24</td>\n",
       "      <td>247</td>\n",
       "    </tr>\n",
       "    <tr>\n",
       "      <th>00054819240f9d46378288b215dbcd3a</th>\n",
       "      <td>14</td>\n",
       "      <td>10</td>\n",
       "    </tr>\n",
       "    <tr>\n",
       "      <th>000dbf763348037b46558bbcb6a032ac</th>\n",
       "      <td>19</td>\n",
       "      <td>17</td>\n",
       "    </tr>\n",
       "    <tr>\n",
       "      <th>000e79208bebd8e84ce6c22fd8612a0d</th>\n",
       "      <td>14</td>\n",
       "      <td>15</td>\n",
       "    </tr>\n",
       "    <tr>\n",
       "      <th>000f13aff94499d03e3997afc55b0aa0</th>\n",
       "      <td>28</td>\n",
       "      <td>15</td>\n",
       "    </tr>\n",
       "  </tbody>\n",
       "</table>\n",
       "</div>"
      ],
      "text/plain": [
       "                                  spacecraft_id  background_id\n",
       "image_id                                                      \n",
       "0001954c9f4a58f7ac05358b3cda8d20             24            247\n",
       "00054819240f9d46378288b215dbcd3a             14             10\n",
       "000dbf763348037b46558bbcb6a032ac             19             17\n",
       "000e79208bebd8e84ce6c22fd8612a0d             14             15\n",
       "000f13aff94499d03e3997afc55b0aa0             28             15"
      ]
     },
     "execution_count": 120,
     "metadata": {},
     "output_type": "execute_result"
    }
   ],
   "source": [
    "train_meta.head()"
   ]
  },
  {
   "cell_type": "code",
   "execution_count": 121,
   "id": "b13d7f0d",
   "metadata": {},
   "outputs": [
    {
     "name": "stdout",
     "output_type": "stream",
     "text": [
      "(1579, 3) (1579, 5)\n",
      "The indexes are the same.\n"
     ]
    }
   ],
   "source": [
    "# we didn't download the full training set, so add a column indicating which images are saved locally\n",
    "train_meta[\"exists\"] = train_meta.index.to_series().map(lambda x: (IMAGES_DIRECTORY / f\"{x}.png\").exists())\n",
    "train_labels[\"exists\"] = train_labels.index.to_series().map(lambda x: (IMAGES_DIRECTORY / f\"{x}.png\").exists())\n",
    "\n",
    "# filter our metadata and training data down to only the images we have locally\n",
    "train_meta = train_meta[train_meta.exists]\n",
    "train_labels = train_labels[train_labels.exists]\n",
    "\n",
    "print(train_meta.shape, train_labels.shape)\n",
    "\n",
    "# Check indexes are the same\n",
    "if train_meta.index.equals(train_labels.index):\n",
    "    print(\"The indexes are the same.\")\n",
    "else:\n",
    "    print(\"The indexes are different.\")"
   ]
  },
  {
   "cell_type": "code",
   "execution_count": 129,
   "id": "357f2c9b",
   "metadata": {},
   "outputs": [],
   "source": [
    "# Create pytorch DataSet\n",
    "class SpacecraftDataset(torch.utils.data.Dataset):\n",
    "    def __init__(self, labels_df, meta_df, imgs_dir=IMAGES_DIRECTORY, transforms=None):\n",
    "        self.imgs_dir = imgs_dir\n",
    "        self.labels_df = labels_df # dataframe of indexs and bbox coordinates\n",
    "        self.meta_df = meta_df\n",
    "        self.img_idxs = labels_df.index.tolist()\n",
    "        self.transforms = transforms\n",
    "    \n",
    "    def __getitem__(self, idx):\n",
    "        # Get image id and path\n",
    "        img_id = self.img_idxs[idx]\n",
    "        img_path = str(Path(self.imgs_dir, img_id + '.png'))\n",
    "        n_objs = 1\n",
    "        \n",
    "        # Load image\n",
    "        img = read_image(img_path) / 255\n",
    "\n",
    "        # Get spacecraft id\n",
    "        # labels = self.meta_df.loc[idxs[0]].loc['spacecraft_id']\n",
    "        labels = torch.ones(n_objs, dtype=torch.int64)\n",
    "\n",
    "        # Get bbox coordinates\n",
    "        bbox = self._get_bbox(img_id)\n",
    "        \n",
    "        # Convert data to format needed by model.\n",
    "        target = {}\n",
    "        target['boxes'] = torch.from_numpy(bbox).reshape((1,4))\n",
    "        target['labels'] = labels\n",
    "\n",
    "        if self.transforms is not None:\n",
    "            img, target = self.transforms(img, target)\n",
    "\n",
    "        return img, target\n",
    "    \n",
    "    def __len__(self):\n",
    "        return len(self.img_idxs)\n",
    "\n",
    "    def _get_bbox(self, image_id):\n",
    "        return self.labels_df.loc[image_id].loc[[\"xmin\", \"ymin\", \"xmax\", \"ymax\"]].values.astype('int')"
   ]
  },
  {
   "cell_type": "code",
   "execution_count": 130,
   "id": "2d9da2aa",
   "metadata": {},
   "outputs": [],
   "source": [
    "# Define a collate function to deal with format of map-type (i.e dictionaries) dataset\n",
    "def collate_fn(batch):\n",
    "    return list(zip(*batch))"
   ]
  },
  {
   "cell_type": "code",
   "execution_count": 138,
   "id": "a45c514a",
   "metadata": {},
   "outputs": [
    {
     "name": "stdout",
     "output_type": "stream",
     "text": [
      "{'loss_classifier': tensor(0.4383, grad_fn=<NllLossBackward0>), 'loss_box_reg': tensor(0.1229, grad_fn=<DivBackward0>), 'loss_objectness': tensor(0.0200, grad_fn=<BinaryCrossEntropyWithLogitsBackward0>), 'loss_rpn_box_reg': tensor(0.0120, grad_fn=<DivBackward0>)}\n"
     ]
    }
   ],
   "source": [
    "# Test a forward pass\n",
    "model = torchvision.models.detection.fasterrcnn_resnet50_fpn(weights=\"DEFAULT\")\n",
    "dataset = SpacecraftDataset(train_labels, train_meta)\n",
    "data_loader = DataLoader(\n",
    "    dataset,\n",
    "    batch_size=3,\n",
    "    shuffle=True,\n",
    "    collate_fn=collate_fn\n",
    ")\n",
    "\n",
    "# For training\n",
    "images, targets = next(iter(data_loader))\n",
    "images = list(images)\n",
    "targets = list(targets)\n",
    "output = model(images, targets)\n",
    "print(output)"
   ]
  },
  {
   "cell_type": "code",
   "execution_count": 165,
   "id": "22da41cf",
   "metadata": {},
   "outputs": [
    {
     "data": {
      "text/plain": [
       "FasterRCNN(\n",
       "  (transform): GeneralizedRCNNTransform(\n",
       "      Normalize(mean=[0.485, 0.456, 0.406], std=[0.229, 0.224, 0.225])\n",
       "      Resize(min_size=(800,), max_size=1333, mode='bilinear')\n",
       "  )\n",
       "  (backbone): BackboneWithFPN(\n",
       "    (body): IntermediateLayerGetter(\n",
       "      (conv1): Conv2d(3, 64, kernel_size=(7, 7), stride=(2, 2), padding=(3, 3), bias=False)\n",
       "      (bn1): FrozenBatchNorm2d(64, eps=0.0)\n",
       "      (relu): ReLU(inplace=True)\n",
       "      (maxpool): MaxPool2d(kernel_size=3, stride=2, padding=1, dilation=1, ceil_mode=False)\n",
       "      (layer1): Sequential(\n",
       "        (0): Bottleneck(\n",
       "          (conv1): Conv2d(64, 64, kernel_size=(1, 1), stride=(1, 1), bias=False)\n",
       "          (bn1): FrozenBatchNorm2d(64, eps=0.0)\n",
       "          (conv2): Conv2d(64, 64, kernel_size=(3, 3), stride=(1, 1), padding=(1, 1), bias=False)\n",
       "          (bn2): FrozenBatchNorm2d(64, eps=0.0)\n",
       "          (conv3): Conv2d(64, 256, kernel_size=(1, 1), stride=(1, 1), bias=False)\n",
       "          (bn3): FrozenBatchNorm2d(256, eps=0.0)\n",
       "          (relu): ReLU(inplace=True)\n",
       "          (downsample): Sequential(\n",
       "            (0): Conv2d(64, 256, kernel_size=(1, 1), stride=(1, 1), bias=False)\n",
       "            (1): FrozenBatchNorm2d(256, eps=0.0)\n",
       "          )\n",
       "        )\n",
       "        (1): Bottleneck(\n",
       "          (conv1): Conv2d(256, 64, kernel_size=(1, 1), stride=(1, 1), bias=False)\n",
       "          (bn1): FrozenBatchNorm2d(64, eps=0.0)\n",
       "          (conv2): Conv2d(64, 64, kernel_size=(3, 3), stride=(1, 1), padding=(1, 1), bias=False)\n",
       "          (bn2): FrozenBatchNorm2d(64, eps=0.0)\n",
       "          (conv3): Conv2d(64, 256, kernel_size=(1, 1), stride=(1, 1), bias=False)\n",
       "          (bn3): FrozenBatchNorm2d(256, eps=0.0)\n",
       "          (relu): ReLU(inplace=True)\n",
       "        )\n",
       "        (2): Bottleneck(\n",
       "          (conv1): Conv2d(256, 64, kernel_size=(1, 1), stride=(1, 1), bias=False)\n",
       "          (bn1): FrozenBatchNorm2d(64, eps=0.0)\n",
       "          (conv2): Conv2d(64, 64, kernel_size=(3, 3), stride=(1, 1), padding=(1, 1), bias=False)\n",
       "          (bn2): FrozenBatchNorm2d(64, eps=0.0)\n",
       "          (conv3): Conv2d(64, 256, kernel_size=(1, 1), stride=(1, 1), bias=False)\n",
       "          (bn3): FrozenBatchNorm2d(256, eps=0.0)\n",
       "          (relu): ReLU(inplace=True)\n",
       "        )\n",
       "      )\n",
       "      (layer2): Sequential(\n",
       "        (0): Bottleneck(\n",
       "          (conv1): Conv2d(256, 128, kernel_size=(1, 1), stride=(1, 1), bias=False)\n",
       "          (bn1): FrozenBatchNorm2d(128, eps=0.0)\n",
       "          (conv2): Conv2d(128, 128, kernel_size=(3, 3), stride=(2, 2), padding=(1, 1), bias=False)\n",
       "          (bn2): FrozenBatchNorm2d(128, eps=0.0)\n",
       "          (conv3): Conv2d(128, 512, kernel_size=(1, 1), stride=(1, 1), bias=False)\n",
       "          (bn3): FrozenBatchNorm2d(512, eps=0.0)\n",
       "          (relu): ReLU(inplace=True)\n",
       "          (downsample): Sequential(\n",
       "            (0): Conv2d(256, 512, kernel_size=(1, 1), stride=(2, 2), bias=False)\n",
       "            (1): FrozenBatchNorm2d(512, eps=0.0)\n",
       "          )\n",
       "        )\n",
       "        (1): Bottleneck(\n",
       "          (conv1): Conv2d(512, 128, kernel_size=(1, 1), stride=(1, 1), bias=False)\n",
       "          (bn1): FrozenBatchNorm2d(128, eps=0.0)\n",
       "          (conv2): Conv2d(128, 128, kernel_size=(3, 3), stride=(1, 1), padding=(1, 1), bias=False)\n",
       "          (bn2): FrozenBatchNorm2d(128, eps=0.0)\n",
       "          (conv3): Conv2d(128, 512, kernel_size=(1, 1), stride=(1, 1), bias=False)\n",
       "          (bn3): FrozenBatchNorm2d(512, eps=0.0)\n",
       "          (relu): ReLU(inplace=True)\n",
       "        )\n",
       "        (2): Bottleneck(\n",
       "          (conv1): Conv2d(512, 128, kernel_size=(1, 1), stride=(1, 1), bias=False)\n",
       "          (bn1): FrozenBatchNorm2d(128, eps=0.0)\n",
       "          (conv2): Conv2d(128, 128, kernel_size=(3, 3), stride=(1, 1), padding=(1, 1), bias=False)\n",
       "          (bn2): FrozenBatchNorm2d(128, eps=0.0)\n",
       "          (conv3): Conv2d(128, 512, kernel_size=(1, 1), stride=(1, 1), bias=False)\n",
       "          (bn3): FrozenBatchNorm2d(512, eps=0.0)\n",
       "          (relu): ReLU(inplace=True)\n",
       "        )\n",
       "        (3): Bottleneck(\n",
       "          (conv1): Conv2d(512, 128, kernel_size=(1, 1), stride=(1, 1), bias=False)\n",
       "          (bn1): FrozenBatchNorm2d(128, eps=0.0)\n",
       "          (conv2): Conv2d(128, 128, kernel_size=(3, 3), stride=(1, 1), padding=(1, 1), bias=False)\n",
       "          (bn2): FrozenBatchNorm2d(128, eps=0.0)\n",
       "          (conv3): Conv2d(128, 512, kernel_size=(1, 1), stride=(1, 1), bias=False)\n",
       "          (bn3): FrozenBatchNorm2d(512, eps=0.0)\n",
       "          (relu): ReLU(inplace=True)\n",
       "        )\n",
       "      )\n",
       "      (layer3): Sequential(\n",
       "        (0): Bottleneck(\n",
       "          (conv1): Conv2d(512, 256, kernel_size=(1, 1), stride=(1, 1), bias=False)\n",
       "          (bn1): FrozenBatchNorm2d(256, eps=0.0)\n",
       "          (conv2): Conv2d(256, 256, kernel_size=(3, 3), stride=(2, 2), padding=(1, 1), bias=False)\n",
       "          (bn2): FrozenBatchNorm2d(256, eps=0.0)\n",
       "          (conv3): Conv2d(256, 1024, kernel_size=(1, 1), stride=(1, 1), bias=False)\n",
       "          (bn3): FrozenBatchNorm2d(1024, eps=0.0)\n",
       "          (relu): ReLU(inplace=True)\n",
       "          (downsample): Sequential(\n",
       "            (0): Conv2d(512, 1024, kernel_size=(1, 1), stride=(2, 2), bias=False)\n",
       "            (1): FrozenBatchNorm2d(1024, eps=0.0)\n",
       "          )\n",
       "        )\n",
       "        (1): Bottleneck(\n",
       "          (conv1): Conv2d(1024, 256, kernel_size=(1, 1), stride=(1, 1), bias=False)\n",
       "          (bn1): FrozenBatchNorm2d(256, eps=0.0)\n",
       "          (conv2): Conv2d(256, 256, kernel_size=(3, 3), stride=(1, 1), padding=(1, 1), bias=False)\n",
       "          (bn2): FrozenBatchNorm2d(256, eps=0.0)\n",
       "          (conv3): Conv2d(256, 1024, kernel_size=(1, 1), stride=(1, 1), bias=False)\n",
       "          (bn3): FrozenBatchNorm2d(1024, eps=0.0)\n",
       "          (relu): ReLU(inplace=True)\n",
       "        )\n",
       "        (2): Bottleneck(\n",
       "          (conv1): Conv2d(1024, 256, kernel_size=(1, 1), stride=(1, 1), bias=False)\n",
       "          (bn1): FrozenBatchNorm2d(256, eps=0.0)\n",
       "          (conv2): Conv2d(256, 256, kernel_size=(3, 3), stride=(1, 1), padding=(1, 1), bias=False)\n",
       "          (bn2): FrozenBatchNorm2d(256, eps=0.0)\n",
       "          (conv3): Conv2d(256, 1024, kernel_size=(1, 1), stride=(1, 1), bias=False)\n",
       "          (bn3): FrozenBatchNorm2d(1024, eps=0.0)\n",
       "          (relu): ReLU(inplace=True)\n",
       "        )\n",
       "        (3): Bottleneck(\n",
       "          (conv1): Conv2d(1024, 256, kernel_size=(1, 1), stride=(1, 1), bias=False)\n",
       "          (bn1): FrozenBatchNorm2d(256, eps=0.0)\n",
       "          (conv2): Conv2d(256, 256, kernel_size=(3, 3), stride=(1, 1), padding=(1, 1), bias=False)\n",
       "          (bn2): FrozenBatchNorm2d(256, eps=0.0)\n",
       "          (conv3): Conv2d(256, 1024, kernel_size=(1, 1), stride=(1, 1), bias=False)\n",
       "          (bn3): FrozenBatchNorm2d(1024, eps=0.0)\n",
       "          (relu): ReLU(inplace=True)\n",
       "        )\n",
       "        (4): Bottleneck(\n",
       "          (conv1): Conv2d(1024, 256, kernel_size=(1, 1), stride=(1, 1), bias=False)\n",
       "          (bn1): FrozenBatchNorm2d(256, eps=0.0)\n",
       "          (conv2): Conv2d(256, 256, kernel_size=(3, 3), stride=(1, 1), padding=(1, 1), bias=False)\n",
       "          (bn2): FrozenBatchNorm2d(256, eps=0.0)\n",
       "          (conv3): Conv2d(256, 1024, kernel_size=(1, 1), stride=(1, 1), bias=False)\n",
       "          (bn3): FrozenBatchNorm2d(1024, eps=0.0)\n",
       "          (relu): ReLU(inplace=True)\n",
       "        )\n",
       "        (5): Bottleneck(\n",
       "          (conv1): Conv2d(1024, 256, kernel_size=(1, 1), stride=(1, 1), bias=False)\n",
       "          (bn1): FrozenBatchNorm2d(256, eps=0.0)\n",
       "          (conv2): Conv2d(256, 256, kernel_size=(3, 3), stride=(1, 1), padding=(1, 1), bias=False)\n",
       "          (bn2): FrozenBatchNorm2d(256, eps=0.0)\n",
       "          (conv3): Conv2d(256, 1024, kernel_size=(1, 1), stride=(1, 1), bias=False)\n",
       "          (bn3): FrozenBatchNorm2d(1024, eps=0.0)\n",
       "          (relu): ReLU(inplace=True)\n",
       "        )\n",
       "      )\n",
       "      (layer4): Sequential(\n",
       "        (0): Bottleneck(\n",
       "          (conv1): Conv2d(1024, 512, kernel_size=(1, 1), stride=(1, 1), bias=False)\n",
       "          (bn1): FrozenBatchNorm2d(512, eps=0.0)\n",
       "          (conv2): Conv2d(512, 512, kernel_size=(3, 3), stride=(2, 2), padding=(1, 1), bias=False)\n",
       "          (bn2): FrozenBatchNorm2d(512, eps=0.0)\n",
       "          (conv3): Conv2d(512, 2048, kernel_size=(1, 1), stride=(1, 1), bias=False)\n",
       "          (bn3): FrozenBatchNorm2d(2048, eps=0.0)\n",
       "          (relu): ReLU(inplace=True)\n",
       "          (downsample): Sequential(\n",
       "            (0): Conv2d(1024, 2048, kernel_size=(1, 1), stride=(2, 2), bias=False)\n",
       "            (1): FrozenBatchNorm2d(2048, eps=0.0)\n",
       "          )\n",
       "        )\n",
       "        (1): Bottleneck(\n",
       "          (conv1): Conv2d(2048, 512, kernel_size=(1, 1), stride=(1, 1), bias=False)\n",
       "          (bn1): FrozenBatchNorm2d(512, eps=0.0)\n",
       "          (conv2): Conv2d(512, 512, kernel_size=(3, 3), stride=(1, 1), padding=(1, 1), bias=False)\n",
       "          (bn2): FrozenBatchNorm2d(512, eps=0.0)\n",
       "          (conv3): Conv2d(512, 2048, kernel_size=(1, 1), stride=(1, 1), bias=False)\n",
       "          (bn3): FrozenBatchNorm2d(2048, eps=0.0)\n",
       "          (relu): ReLU(inplace=True)\n",
       "        )\n",
       "        (2): Bottleneck(\n",
       "          (conv1): Conv2d(2048, 512, kernel_size=(1, 1), stride=(1, 1), bias=False)\n",
       "          (bn1): FrozenBatchNorm2d(512, eps=0.0)\n",
       "          (conv2): Conv2d(512, 512, kernel_size=(3, 3), stride=(1, 1), padding=(1, 1), bias=False)\n",
       "          (bn2): FrozenBatchNorm2d(512, eps=0.0)\n",
       "          (conv3): Conv2d(512, 2048, kernel_size=(1, 1), stride=(1, 1), bias=False)\n",
       "          (bn3): FrozenBatchNorm2d(2048, eps=0.0)\n",
       "          (relu): ReLU(inplace=True)\n",
       "        )\n",
       "      )\n",
       "    )\n",
       "    (fpn): FeaturePyramidNetwork(\n",
       "      (inner_blocks): ModuleList(\n",
       "        (0): Conv2dNormActivation(\n",
       "          (0): Conv2d(256, 256, kernel_size=(1, 1), stride=(1, 1))\n",
       "        )\n",
       "        (1): Conv2dNormActivation(\n",
       "          (0): Conv2d(512, 256, kernel_size=(1, 1), stride=(1, 1))\n",
       "        )\n",
       "        (2): Conv2dNormActivation(\n",
       "          (0): Conv2d(1024, 256, kernel_size=(1, 1), stride=(1, 1))\n",
       "        )\n",
       "        (3): Conv2dNormActivation(\n",
       "          (0): Conv2d(2048, 256, kernel_size=(1, 1), stride=(1, 1))\n",
       "        )\n",
       "      )\n",
       "      (layer_blocks): ModuleList(\n",
       "        (0-3): 4 x Conv2dNormActivation(\n",
       "          (0): Conv2d(256, 256, kernel_size=(3, 3), stride=(1, 1), padding=(1, 1))\n",
       "        )\n",
       "      )\n",
       "      (extra_blocks): LastLevelMaxPool()\n",
       "    )\n",
       "  )\n",
       "  (rpn): RegionProposalNetwork(\n",
       "    (anchor_generator): AnchorGenerator()\n",
       "    (head): RPNHead(\n",
       "      (conv): Sequential(\n",
       "        (0): Conv2dNormActivation(\n",
       "          (0): Conv2d(256, 256, kernel_size=(3, 3), stride=(1, 1), padding=(1, 1))\n",
       "          (1): ReLU(inplace=True)\n",
       "        )\n",
       "      )\n",
       "      (cls_logits): Conv2d(256, 3, kernel_size=(1, 1), stride=(1, 1))\n",
       "      (bbox_pred): Conv2d(256, 12, kernel_size=(1, 1), stride=(1, 1))\n",
       "    )\n",
       "  )\n",
       "  (roi_heads): RoIHeads(\n",
       "    (box_roi_pool): MultiScaleRoIAlign(featmap_names=['0', '1', '2', '3'], output_size=(7, 7), sampling_ratio=2)\n",
       "    (box_head): TwoMLPHead(\n",
       "      (fc6): Linear(in_features=12544, out_features=1024, bias=True)\n",
       "      (fc7): Linear(in_features=1024, out_features=1024, bias=True)\n",
       "    )\n",
       "    (box_predictor): FastRCNNPredictor(\n",
       "      (cls_score): Linear(in_features=1024, out_features=91, bias=True)\n",
       "      (bbox_pred): Linear(in_features=1024, out_features=364, bias=True)\n",
       "    )\n",
       "  )\n",
       ")"
      ]
     },
     "execution_count": 165,
     "metadata": {},
     "output_type": "execute_result"
    }
   ],
   "source": [
    "model"
   ]
  },
  {
   "cell_type": "code",
   "execution_count": 164,
   "id": "e90142e4",
   "metadata": {},
   "outputs": [
    {
     "name": "stdout",
     "output_type": "stream",
     "text": [
      "{'boxes': tensor([[ 631.0053,  274.1492,  653.5613,  310.7522],\n",
      "        [  28.0372,   15.5272, 1280.0000,  964.4224],\n",
      "        [ 630.3187,  273.9125,  653.0670,  311.5308]],\n",
      "       grad_fn=<StackBackward0>), 'labels': tensor([37, 72, 38]), 'scores': tensor([0.9267, 0.0991, 0.0656], grad_fn=<IndexBackward0>)}\n"
     ]
    }
   ],
   "source": [
    "# For evaluation\n",
    "def images2tensors(img_ids):\n",
    "    tensors = []\n",
    "    for id in img_ids:\n",
    "        img_path = str(Path(IMAGES_DIRECTORY, id + '.png'))\n",
    "        img = read_image(img_path) / 255\n",
    "        tensors.append(img)\n",
    "    return tensors\n",
    "\n",
    "img_ids = train_labels.index.to_list()[:3]\n",
    "img_tensors = images2tensors(img_ids)\n",
    "model.eval()\n",
    "predictions = model(img_tensors)\n",
    "print(predictions[2])"
   ]
  },
  {
   "cell_type": "code",
   "execution_count": null,
   "id": "401a9bd9",
   "metadata": {},
   "outputs": [],
   "source": [
    "# Divide train_meta into test and validation sets.\n",
    "\n",
    "# Explore data augmentation.\n",
    "\n",
    "# Move validation images into data/images directory\n",
    "\n",
    "# Create a subset of training set for dummy training.\n",
    "\n",
    "# Set up the model for finetuning."
   ]
  },
  {
   "cell_type": "code",
   "execution_count": 157,
   "id": "f908feb9",
   "metadata": {},
   "outputs": [],
   "source": [
    "def display_prediction(image_id, images_dir=IMAGES_DIRECTORY, show_bbox=False, labels=None):\n",
    "    \"\"\"Display image given image ID. Annotate with bounding box if `show_bbox` is True.\"\"\"\n",
    "    img = cv2.imread(str(images_dir / f\"{image_id}.png\"))\n",
    "    fig, ax = plt.subplots()\n",
    "    # cv2 reads images as BGR order; we should flip them to RGB for matplotlib\n",
    "    # ref: https://stackoverflow.com/questions/54959387/rgb-image-display-in-matplotlib-plt-imshow-returns-a-blue-image\n",
    "    ax.imshow(np.flip(img, axis=-1))\n",
    "\n",
    "    if show_bbox:\n",
    "        xmin, ymin, xmax, ymax = labels\n",
    "        patch = Rectangle((xmin, ymin), xmax - xmin, ymax - ymin, fill=False, edgecolor='white', linewidth=1)\n",
    "        ax.add_patch(patch)"
   ]
  },
  {
   "cell_type": "code",
   "execution_count": 163,
   "id": "26196ac8",
   "metadata": {},
   "outputs": [
    {
     "data": {
      "image/png": "[encoded data removed]",
      "text/plain": [
       "<Figure size 640x480 with 1 Axes>"
      ]
     },
     "metadata": {},
     "output_type": "display_data"
    }
   ],
   "source": [
    "display_prediction('000dbf763348037b46558bbcb6a032ac', show_bbox=True, labels=[ 630.3187,  273.9125,  653.0670,  311.5308] )"
   ]
  },
  {
   "cell_type": "markdown",
   "id": "36e59695",
   "metadata": {},
   "source": [
    "<a id=\"model\"></a>\n",
    "## 🤖 | Model"
   ]
  },
  {
   "cell_type": "code",
   "execution_count": 46,
   "id": "f8706650",
   "metadata": {},
   "outputs": [
    {
     "name": "stderr",
     "output_type": "stream",
     "text": [
      "Downloading: \"https://download.pytorch.org/models/fasterrcnn_resnet50_fpn_coco-258fb6c6.pth\" to /Users/jsh/.cache/torch/hub/checkpoints/fasterrcnn_resnet50_fpn_coco-258fb6c6.pth\n",
      "100%|██████████| 160M/160M [00:20<00:00, 8.12MB/s] \n"
     ]
    }
   ],
   "source": [
    "model = torchvision.models.detection.fasterrcnn_resnet50_fpn(weights=\"DEFAULT\")\n"
   ]
  },
  {
   "cell_type": "code",
   "execution_count": 46,
   "id": "fb8ae56f",
   "metadata": {},
   "outputs": [],
   "source": [
    "# For training\n",
    "images, boxes = torch.rand(4, 3, 600, 1200), torch.rand(4, 11, 4)\n",
    "boxes[:, :, 2:4] = boxes[:, :, 0:2] + boxes[:, :, 2:4]\n",
    "labels = torch.randint(1, 91, (4, 11))\n",
    "images = list(image for image in images)\n",
    "targets = []\n",
    "for i in range(len(images)):\n",
    "    d = {}\n",
    "    d['boxes'] = boxes[i]\n",
    "    d['labels'] = labels[i]\n",
    "    targets.append(d)\n"
   ]
  },
  {
   "cell_type": "code",
   "execution_count": 47,
   "id": "6d956e79",
   "metadata": {},
   "outputs": [
    {
     "data": {
      "text/plain": [
       "tensor([0.3648, 0.9368, 0.7403, 1.0433])"
      ]
     },
     "execution_count": 47,
     "metadata": {},
     "output_type": "execute_result"
    }
   ],
   "source": [
    "boxes[0][0]"
   ]
  },
  {
   "cell_type": "markdown",
   "id": "89b2b4ad",
   "metadata": {},
   "source": []
  },
  {
   "cell_type": "markdown",
   "id": "9b3b3c7a",
   "metadata": {},
   "source": [
    "<a id=\"loss-and-optimizer\"></a>\n",
    "## 🔍 | Loss & Optimizer"
   ]
  },
  {
   "cell_type": "markdown",
   "id": "435c03b1",
   "metadata": {},
   "source": [
    "<a id=\"training\"></a>\n",
    "## 🚂 | Training"
   ]
  },
  {
   "cell_type": "markdown",
   "id": "ddbe29f6",
   "metadata": {},
   "source": [
    "## 📋 | Result"
   ]
  },
  {
   "cell_type": "markdown",
   "id": "bde759c4",
   "metadata": {
    "collapsed": false
   },
   "source": [
    "The `train_labels.csv` contains the bounding box information for the target spacecraft in each image."
   ]
  },
  {
   "cell_type": "code",
   "execution_count": 6,
   "id": "15157ade",
   "metadata": {
    "ExecuteTime": {
     "end_time": "2024-02-20T00:35:44.878218361Z",
     "start_time": "2024-02-20T00:35:44.708801032Z"
    },
    "collapsed": false
   },
   "outputs": [
    {
     "data": {
      "text/html": [
       "<div>\n",
       "<style scoped>\n",
       "    .dataframe tbody tr th:only-of-type {\n",
       "        vertical-align: middle;\n",
       "    }\n",
       "\n",
       "    .dataframe tbody tr th {\n",
       "        vertical-align: top;\n",
       "    }\n",
       "\n",
       "    .dataframe thead th {\n",
       "        text-align: right;\n",
       "    }\n",
       "</style>\n",
       "<table border=\"1\" class=\"dataframe\">\n",
       "  <thead>\n",
       "    <tr style=\"text-align: right;\">\n",
       "      <th></th>\n",
       "      <th>xmin</th>\n",
       "      <th>ymin</th>\n",
       "      <th>xmax</th>\n",
       "      <th>ymax</th>\n",
       "    </tr>\n",
       "    <tr>\n",
       "      <th>image_id</th>\n",
       "      <th></th>\n",
       "      <th></th>\n",
       "      <th></th>\n",
       "      <th></th>\n",
       "    </tr>\n",
       "  </thead>\n",
       "  <tbody>\n",
       "    <tr>\n",
       "      <th>0001954c9f4a58f7ac05358b3cda8d20</th>\n",
       "      <td>0</td>\n",
       "      <td>277</td>\n",
       "      <td>345</td>\n",
       "      <td>709</td>\n",
       "    </tr>\n",
       "    <tr>\n",
       "      <th>00054819240f9d46378288b215dbcd3a</th>\n",
       "      <td>753</td>\n",
       "      <td>602</td>\n",
       "      <td>932</td>\n",
       "      <td>725</td>\n",
       "    </tr>\n",
       "    <tr>\n",
       "      <th>000dbf763348037b46558bbcb6a032ac</th>\n",
       "      <td>160</td>\n",
       "      <td>434</td>\n",
       "      <td>203</td>\n",
       "      <td>481</td>\n",
       "    </tr>\n",
       "    <tr>\n",
       "      <th>000e79208bebd8e84ce6c22fd8612a0d</th>\n",
       "      <td>70</td>\n",
       "      <td>534</td>\n",
       "      <td>211</td>\n",
       "      <td>586</td>\n",
       "    </tr>\n",
       "    <tr>\n",
       "      <th>000f13aff94499d03e3997afc55b0aa0</th>\n",
       "      <td>103</td>\n",
       "      <td>0</td>\n",
       "      <td>312</td>\n",
       "      <td>193</td>\n",
       "    </tr>\n",
       "  </tbody>\n",
       "</table>\n",
       "</div>"
      ],
      "text/plain": [
       "                                  xmin  ymin  xmax  ymax\n",
       "image_id                                                \n",
       "0001954c9f4a58f7ac05358b3cda8d20     0   277   345   709\n",
       "00054819240f9d46378288b215dbcd3a   753   602   932   725\n",
       "000dbf763348037b46558bbcb6a032ac   160   434   203   481\n",
       "000e79208bebd8e84ce6c22fd8612a0d    70   534   211   586\n",
       "000f13aff94499d03e3997afc55b0aa0   103     0   312   193"
      ]
     },
     "execution_count": 6,
     "metadata": {},
     "output_type": "execute_result"
    }
   ],
   "source": [
    "train_labels.head()"
   ]
  },
  {
   "cell_type": "markdown",
   "id": "2676ddb2",
   "metadata": {
    "collapsed": false
   },
   "source": [
    "Let's look at a few example images to get a feel for what's in this dataset."
   ]
  },
  {
   "cell_type": "markdown",
   "id": "dc8db9ae",
   "metadata": {
    "collapsed": false
   },
   "source": [
    "<a id=\"demo-submission\"></a>\n",
    "\n",
    "## Section 2: Demo submission\n",
    "Now that we've had a chance to get a feel for the data, it's time to walk through the steps for creating a competition submission.\n",
    "\n",
    "This is a **code submission competition**, so our focus for now will be on creating that submission in the correct format, and less so on the accuracy of the predictions. To get you started, we'll be using a YOLO model to try to identify the target spacecraft in 100 local test images.\n",
    "\n",
    "If you haven't already read through the following resources, now would be a great time to do that:\n",
    "* [Code Submission Format page](https://www.drivendata.org/competitions/260/spacecraft-detection/page/835/): An introduction to the code submission setup and how to make a valid submission.\n",
    "* [Runtime Repository README](https://github.com/drivendataorg/spacecraft-pose-object-detection-runtime): Details on the competition runtime and how to use this repository effectively."
   ]
  },
  {
   "cell_type": "markdown",
   "id": "82c85841",
   "metadata": {
    "collapsed": false
   },
   "source": [
    "### Using the `/data` directory\n",
    "\n",
    "The `/data` directory in this runtime repository plays two important roles:\n",
    "\n",
    "* When you are testing your solution _locally_, the contents of `/data` will be mounted on the Docker container that simulates our code execution platform (further below, we'll walk through the specifics of how to do these test runs)\n",
    "* When you make a submission on the DrivenData _platform_, the contents of `/data` that get mounted to the Docker container will be the unseen test data that ultimately determines your rank on the leaderboard.\n",
    "\n",
    "To develop your submission locally, you should add a subset of the challenge data to `/data` and treat this as your local test set. We'll demonstrate one way to do that next..."
   ]
  },
  {
   "cell_type": "markdown",
   "id": "1ea10dd1",
   "metadata": {
    "collapsed": false
   },
   "source": [
    "First, let's select a random subset of 100 images in `/data_dev` to treat as our local test set."
   ]
  },
  {
   "cell_type": "code",
   "execution_count": 22,
   "id": "2354b9d3",
   "metadata": {
    "ExecuteTime": {
     "end_time": "2024-02-20T00:35:47.335027263Z",
     "start_time": "2024-02-20T00:35:47.334507918Z"
    },
    "collapsed": false
   },
   "outputs": [
    {
     "data": {
      "text/plain": [
       "['059af2a88bfa9e8f99de278154acad12',\n",
       " '0384647db5822c58e10acb2f6e9cae88',\n",
       " '0e24bf82001019665f91889c24d733ca',\n",
       " '01cb19b86b408a71407f9dd293d43e4a',\n",
       " '02a88fc07c2709f50807da1cfb29612c']"
      ]
     },
     "execution_count": 22,
     "metadata": {},
     "output_type": "execute_result"
    }
   ],
   "source": [
    "test_images = train_meta.sample(100, random_state=1).index.tolist()\n",
    "test_images[:5]"
   ]
  },
  {
   "cell_type": "markdown",
   "id": "2e3c9d84",
   "metadata": {},
   "source": []
  },
  {
   "cell_type": "markdown",
   "id": "0fe1cc7c",
   "metadata": {
    "collapsed": false
   },
   "source": [
    "Next, we'll move these files into the `/data` directory."
   ]
  },
  {
   "cell_type": "code",
   "execution_count": 23,
   "id": "04b52e5f",
   "metadata": {
    "ExecuteTime": {
     "end_time": "2024-02-20T00:35:47.488039969Z",
     "start_time": "2024-02-20T00:35:47.334815488Z"
    },
    "collapsed": false
   },
   "outputs": [],
   "source": [
    "import shutil\n",
    "\n",
    "dest_dir = DATA_DIRECTORY / \"images\"\n",
    "if not dest_dir.exists():\n",
    "    dest_dir.mkdir(parents=True, exist_ok=True)\n",
    "\n",
    "for img in test_images:\n",
    "    shutil.copy2(IMAGES_DIRECTORY / f\"{img}.png\", dest_dir / f\"{img}.png\")"
   ]
  },
  {
   "cell_type": "markdown",
   "id": "9e86d5eb",
   "metadata": {
    "collapsed": false
   },
   "source": [
    "Next we'll add a \"submission format\" CSV file to `/data`.\n",
    "\n",
    "> Note: A submission format file in this case is simply a CSV file that has the correct column and row indices required for a valid submission. Using this type of standard file is a useful way to ensure that all participants understand how their submission needs to be formatted in order to be accepted, and we tend to use these in most of our challenges.\n",
    "\n",
    "A submission format file for the full training set should already be present in `/data_dev`. We'll make a copy of this that only includes rows pertaining to the images in our local test set, and save it in `/data`."
   ]
  },
  {
   "cell_type": "code",
   "execution_count": 24,
   "id": "b4fb9fec",
   "metadata": {
    "ExecuteTime": {
     "end_time": "2024-02-20T00:35:47.525791962Z",
     "start_time": "2024-02-20T00:35:47.477448823Z"
    },
    "collapsed": false
   },
   "outputs": [],
   "source": [
    "submission_format = pd.read_csv(DEV_DIRECTORY / \"submission_format.csv\", index_col=\"image_id\")\n",
    "submission_format_val = submission_format.loc[test_images]\n",
    "submission_format_val.to_csv(DATA_DIRECTORY / \"submission_format.csv\")"
   ]
  },
  {
   "cell_type": "markdown",
   "id": "24faf50a21241f06",
   "metadata": {
    "collapsed": false
   },
   "source": [
    "Let's also create a version of the labels file that only includes rows pertaining to our local test set. We can use this later for local scoring (see below)."
   ]
  },
  {
   "cell_type": "code",
   "execution_count": 25,
   "id": "b2cc0ca3ba63cd0b",
   "metadata": {
    "ExecuteTime": {
     "end_time": "2024-02-20T00:35:47.565704098Z",
     "start_time": "2024-02-20T00:35:47.520737678Z"
    },
    "collapsed": false
   },
   "outputs": [],
   "source": [
    "train_labels = pd.read_csv(DEV_DIRECTORY / \"train_labels.csv\", index_col=\"image_id\")\n",
    "test_labels = train_labels.loc[test_images]\n",
    "test_labels.to_csv(DATA_DIRECTORY / \"test_labels.csv\")"
   ]
  },
  {
   "cell_type": "markdown",
   "id": "6e67a740-bd5e-4343-b196-bd3b7dc72a2f",
   "metadata": {},
   "source": [
    "### Download a pretrained model\n",
    "\n",
    "For this benchmark example, we will rely on YOLO, a commonly used algorithm for object detection. This will suit our purposes for demonstrating a very basic baseline approach, but you should explore more sophisticated methods yourself.\n",
    "\n",
    "To download the latest v8 YOLO model, we'll use the `ultralytics` library. The code below will download the model and move it into the `example_benchmark` directory, where we're assembling the components of our submission."
   ]
  },
  {
   "cell_type": "code",
   "execution_count": 26,
   "id": "fcd86a95",
   "metadata": {
    "ExecuteTime": {
     "end_time": "2024-02-20T00:35:50.424208681Z",
     "start_time": "2024-02-20T00:35:47.564680047Z"
    },
    "collapsed": false
   },
   "outputs": [
    {
     "name": "stdout",
     "output_type": "stream",
     "text": [
      "Downloading https://github.com/ultralytics/assets/releases/download/v8.1.0/yolov8n.pt to 'yolov8n.pt'...\n"
     ]
    },
    {
     "name": "stderr",
     "output_type": "stream",
     "text": [
      "100%|██████████| 6.23M/6.23M [00:01<00:00, 6.22MB/s]\n"
     ]
    },
    {
     "data": {
      "text/plain": [
       "PosixPath('/Users/jsh/code/drivendata/spacecraft-pose-object-detection-runtime/example_benchmark/yolov8n.pt')"
      ]
     },
     "execution_count": 26,
     "metadata": {},
     "output_type": "execute_result"
    }
   ],
   "source": [
    "from ultralytics import YOLO\n",
    "model = YOLO(\"yolov8n.pt\")\n",
    "\n",
    "shutil.move('yolov8n.pt', PROJ_DIRECTORY / \"example_benchmark\" / \"yolov8n.pt\")"
   ]
  },
  {
   "cell_type": "markdown",
   "id": "8695a5ce",
   "metadata": {
    "collapsed": false
   },
   "source": [
    "### Review the benchmark submission scripts\n",
    "\n",
    "Now let's take a look at the 2 files in `/example_benchmark`. This is the directory we are going to convert into a `submission.zip` file, which you can submit for the challenge.\n",
    "* The `main.sh` shell script is a _required_ file for any submission to this challenge. Our code execution platform will run this script, and you can have it call other scripts and resources as needed for your submission.\n",
    "* The `main.py` Python script is called by `main.sh` in this benchmark example, and this is where the work of generating predictions actually happens. There is no requirement that you also use Python here, but that's the approach we've taken since it is such a common one. The `main.py` script will iterate through all the images in the `submission_format.csv` and generate predictions using YOLO. If YOLO doesn't return a prediction, we simply generate a bounding box for the center of the image.\n",
    "\n",
    "The `example_benchmark` directory should now contain the following files.  Note that we do need to include the `yolov8n.pt` file because the submission will have no internet access when running on our platform.\n",
    "```\n",
    "spacecraft-pose-object-detection-runtime/\n",
    "└── example_benchmark/\n",
    "    ├── main.py\n",
    "    ├── main.sh\n",
    "    └── yolov8n.pt\n",
    "```"
   ]
  },
  {
   "cell_type": "markdown",
   "id": "59e52b73-76f9-4158-889d-5bf5a00304de",
   "metadata": {},
   "source": [
    "### Three commands to prepare your submission\n",
    "To run and test the benchmark example, you just need to execute the following 3 commands:\n",
    "\n",
    "1. [`make pull`](#make-pull)\n",
    "2. [`make pack-benchmark`](#make-pack-benchmark)\n",
    "3. [`make test-submission`](#make-test-submission)\n",
    "\n",
    "These are defined in the project `Makefile` [here](https://github.com/drivendataorg/spacecraft-pose-object-detection-runtime/blob/main/Makefile). We'll walk through what each one does now."
   ]
  },
  {
   "cell_type": "markdown",
   "id": "8a7777c9-1f41-42b0-a56c-b8e5eb91424c",
   "metadata": {},
   "source": [
    "<a id=\"make-pull\"></a>\n",
    "\n",
    "#### **`make pull`**\n",
    "\n",
    "To ensure that all participants are using the same runtime environment, we have a publicly accessible docker image hosted on [Azure Container Registry](https://azure.microsoft.com/en-us/services/container-registry/).\n",
    "\n",
    "The `make pull` command pulls the official version of the docker image and stores it locally. Having a local version of the competition image allows you to test your submission using the same image that is used during code execution.\n",
    "\n",
    "> **Note:** This command can take a little while to run the first time you pull the image. But after that it will be relatively quick since you'll have all the layers cached locally. You don't need to pull the image again each time you test your submission, unless the image has changed."
   ]
  },
  {
   "cell_type": "code",
   "execution_count": 17,
   "id": "dfcd20d1-61a1-4445-ae99-066fc67d0ec5",
   "metadata": {
    "ExecuteTime": {
     "end_time": "2024-02-20T00:35:51.374369890Z",
     "start_time": "2024-02-20T00:35:50.421434849Z"
    }
   },
   "outputs": [
    {
     "name": "stdout",
     "output_type": "stream",
     "text": [
      "docker pull spacecraftpose.azurecr.io/spacecraft-pose-object-detection:latest\r\n",
      "latest: Pulling from spacecraft-pose-object-detection\r\n",
      "Digest: sha256:025731e47e851c8f57363fc4d5a2e3fd44ec1a64f2089ba9d728ad7c8057f3a7\r\n",
      "Status: Image is up to date for spacecraftpose.azurecr.io/spacecraft-pose-object-detection:latest\r\n",
      "spacecraftpose.azurecr.io/spacecraft-pose-object-detection:latest\r\n"
     ]
    }
   ],
   "source": [
    "!cd {PROJ_DIRECTORY} && make pull"
   ]
  },
  {
   "cell_type": "markdown",
   "id": "28310df2-9d17-41d0-a2cb-2abcb7441108",
   "metadata": {},
   "source": [
    "You should now have a local copy of the docker image, which you can verify by running:"
   ]
  },
  {
   "cell_type": "code",
   "execution_count": 27,
   "id": "42e4ed6a-3867-43a1-ade4-57c83d84a451",
   "metadata": {
    "ExecuteTime": {
     "end_time": "2024-02-20T00:35:51.685703558Z",
     "start_time": "2024-02-20T00:35:51.377842467Z"
    }
   },
   "outputs": [
    {
     "name": "stdout",
     "output_type": "stream",
     "text": [
      "spacecraftpose.azurecr.io/spacecraft-pose-object-detection   latest    bc1d6eb59ba6   4 days ago     5.74GB\n"
     ]
    }
   ],
   "source": [
    "!docker images | grep spacecraft-pose-object-detection"
   ]
  },
  {
   "cell_type": "markdown",
   "id": "edf5aea2-cafd-4862-b1d9-e879761b6bb5",
   "metadata": {},
   "source": [
    "<a id=\"make-pack-benchmark\"></a>\n",
    "\n",
    "#### **`make pack-benchmark`** \n",
    "This command simply goes to your `example_benchmark` directory, zips the contents, and writes the zip archive to `submission/submission.zip`."
   ]
  },
  {
   "cell_type": "code",
   "execution_count": 28,
   "id": "4b5c8ed1-62ee-42a8-aa09-3c47e23d4699",
   "metadata": {
    "ExecuteTime": {
     "end_time": "2024-02-20T00:35:52.295546224Z",
     "start_time": "2024-02-20T00:35:51.689564773Z"
    }
   },
   "outputs": [
    {
     "name": "stdout",
     "output_type": "stream",
     "text": [
      "mkdir -p submission/\n",
      "cd example_benchmark; zip -r ../submission/submission.zip ./*\n",
      "  adding: main.py (deflated 61%)\n",
      "  adding: main.sh (deflated 26%)\n",
      "  adding: yolov8n.pt (deflated 9%)\n"
     ]
    }
   ],
   "source": [
    "!cd {PROJ_DIRECTORY} && make pack-benchmark"
   ]
  },
  {
   "cell_type": "markdown",
   "id": "f6106a9a-82a1-4ff9-b518-51945f536e8b",
   "metadata": {},
   "source": [
    "> **Note:** The `make pack-benchmark` command will check to see if you already have a `submission/submission.zip` and error if you do, so as not to overwrite existing work. If you already have this file, you'll need to manually remove it before running the command."
   ]
  },
  {
   "cell_type": "markdown",
   "id": "0b0e463f-206e-4482-bc1a-0f102216d6fc",
   "metadata": {},
   "source": [
    "After running the above command, we should now have a new **`submission/submission.zip`**.\n",
    "```\n",
    "spacecraft-pose-object-detection-runtime/\n",
    "├── benchmark_src/\n",
    "│   ├── main.py\n",
    "│   ├── main.sh\n",
    "│   └── yolov8n.pt\n",
    "└── submission/\n",
    "    └── submission.zip   <---- new file, this is what gets submitted on platform\n",
    "```"
   ]
  },
  {
   "cell_type": "markdown",
   "id": "3d45552e-ba9a-4eea-80ea-3fb4c8476a63",
   "metadata": {},
   "source": [
    "This is the file that we will eventually upload to the competition platform for code execution. But before doing that, we want to test it locally."
   ]
  },
  {
   "cell_type": "markdown",
   "id": "a173b208-5120-4f16-9d12-5a22d3027ba2",
   "metadata": {},
   "source": [
    "<a id=\"make-test-submission\"></a>\n",
    "\n",
    "#### **`make test-submission`** \n",
    "This command simulates what happens during actual code execution, launching an instance of the official Docker image and running the same inference process that runs on the competition platform. The required host directories are mounted on the container, and the entrypoint script `main.sh` is executed. Note that when testing locally the contents of your local `data/` directory will be mounted on the container, whereas when your submission is running on our platform, the unseen test set will be mounted as `data/`."
   ]
  },
  {
   "cell_type": "code",
   "execution_count": 29,
   "id": "7a6baaf4-46dc-4230-a69c-ab444f64e443",
   "metadata": {
    "ExecuteTime": {
     "end_time": "2024-02-20T00:36:04.388579831Z",
     "start_time": "2024-02-20T00:35:52.299833801Z"
    }
   },
   "outputs": [
    {
     "name": "stdout",
     "output_type": "stream",
     "text": [
      "mkdir -p submission/\n",
      "chmod -R 0777 submission/\n",
      "docker run \\\n",
      "\t\t-it \\\n",
      "\t\t--network none \\\n",
      "\t\t--mount type=bind,source=\"/Users/jsh/code/drivendata/spacecraft-pose-object-detection-runtime\"/data,target=/code_execution/data,readonly \\\n",
      "\t\t--mount type=bind,source=\"/Users/jsh/code/drivendata/spacecraft-pose-object-detection-runtime\"/submission,target=/code_execution/submission \\\n",
      "\t\t--shm-size 8g \\\n",
      "\t\t--name spacecraft-pose-object-detection \\\n",
      "\t\t--rm \\\n",
      "\t\tbc1d6eb59ba6\n",
      "WARNING: The requested image's platform (linux/amd64) does not match the detected host platform (linux/arm64/v8) and no specific platform was requested\n",
      "+ main\n",
      "+ tee /code_execution/submission/log.txt\n",
      "+ cd /code_execution\n",
      "+ curl --silent --connect-timeout 10 --max-time 12 www.example.com\n",
      "+ data_directory=/code_execution/data\n",
      "+ format_filename=/code_execution/data/submission_format.csv\n",
      "+ (( i=0 ))\n",
      "+ (( i<=5 ))\n",
      "+ t=0\n",
      "+ '[' -f /code_execution/data/submission_format.csv ']'\n",
      "+ echo 'found /code_execution/data/submission_format.csv after 0 seconds; data is mounted'\n",
      "found /code_execution/data/submission_format.csv after 0 seconds; data is mounted\n",
      "+ break\n",
      "+ '[' '!' -f /code_execution/data/submission_format.csv ']'\n",
      "+ expected_filename=main.sh\n",
      "++ zip -sf ./submission/submission.zip\n",
      "+ submission_files='Archive contains:\n",
      "  main.py\n",
      "  main.sh\n",
      "  yolov8n.pt\n",
      "Total 3 entries (6538117 bytes)'\n",
      "+ grep -q main.sh\n",
      "+ echo Unpacking submission\n",
      "Unpacking submission\n",
      "+ unzip ./submission/submission.zip -d ./workdir\n",
      "Archive:  ./submission/submission.zip\n",
      "  inflating: ./workdir/main.py       \n",
      "  inflating: ./workdir/main.sh       \n",
      "  inflating: ./workdir/yolov8n.pt    \n",
      "+ echo Printing submission contents\n",
      "Printing submission contents\n",
      "+ find workdir\n",
      "workdir\n",
      "workdir/yolov8n.pt\n",
      "workdir/main.py\n",
      "workdir/main.sh\n",
      "+ pushd workdir\n",
      "/code_execution/workdir /code_execution\n",
      "+ sh main.sh\n",
      "2024-03-07 09:57:00.768 | INFO     | __main__:main:57 - using data dir: /code_execution/data\n",
      "2024-03-07 09:57:00.884 | INFO     | __main__:main:76 -   0%|          | 0/100 [00:00<?, ?it/s]\n",
      "[W NNPACK.cpp:64] Could not initialize NNPACK! Reason: Unsupported hardware.\n",
      "2024-03-07 09:57:06.578 | INFO     | __main__:main:76 -  10%|█         | 10/100 [00:05<00:51,  1.76it/s]\n",
      "2024-03-07 09:57:10.465 | INFO     | __main__:main:76 -  20%|██        | 20/100 [00:09<00:37,  2.16it/s]\n",
      "2024-03-07 09:57:14.351 | INFO     | __main__:main:76 -  30%|███       | 30/100 [00:13<00:30,  2.33it/s]\n",
      "2024-03-07 09:57:18.244 | INFO     | __main__:main:76 -  40%|████      | 40/100 [00:17<00:24,  2.42it/s]\n",
      "2024-03-07 09:57:22.153 | INFO     | __main__:main:76 -  50%|█████     | 50/100 [00:21<00:20,  2.47it/s]\n",
      "2024-03-07 09:57:26.077 | INFO     | __main__:main:76 -  60%|██████    | 60/100 [00:25<00:16,  2.49it/s]\n",
      "2024-03-07 09:57:29.959 | INFO     | __main__:main:76 -  70%|███████   | 70/100 [00:29<00:11,  2.52it/s]\n",
      "2024-03-07 09:57:33.867 | INFO     | __main__:main:76 -  80%|████████  | 80/100 [00:32<00:07,  2.53it/s]\n",
      "2024-03-07 09:57:37.769 | INFO     | __main__:main:76 -  90%|█████████ | 90/100 [00:36<00:03,  2.54it/s]\n",
      "+ popd\n",
      "/code_execution\n",
      "+ pytest --no-header -vv tests/test_submission.py\n",
      "============================= test session starts ==============================\n",
      "collecting ... collected 2 items\n",
      "\n",
      "tests/test_submission.py::test_submission_exists PASSED                  [ 50%]\n",
      "tests/test_submission.py::test_submission_matches_submission_format PASSED [100%]\n",
      "\n",
      "============================== 2 passed in 0.87s ===============================\n",
      "+ exit_code=0\n",
      "+ cp /code_execution/submission/log.txt /tmp/log\n",
      "+ exit 0\n"
     ]
    }
   ],
   "source": [
    "!cd {PROJ_DIRECTORY} && make test-submission"
   ]
  },
  {
   "cell_type": "markdown",
   "id": "1601f5a99b889451",
   "metadata": {
    "collapsed": false
   },
   "source": [
    "Once the test run has completed, we should now have a new file with our predictions at **`submission/submission.csv`**.\n",
    "```\n",
    "spacecraft-pose-object-detection-runtime/\n",
    "├── benchmark_src/\n",
    "│   ├── main.py\n",
    "│   ├── main.sh\n",
    "│   └── yolov8n.pt\n",
    "└── submission/\n",
    "    ├── submission.zip   <---- this is what gets submitted on platform\n",
    "    └── submission.csv   <---- new file, predictions on test set\n",
    "```\n",
    "We also provide a scoring script that computes your score using the same calculation that's used for the public leaderboard. You can generate a score for your local testing with a command like the one below. Remember that this score will be computed on your local test set, and your score on the public leaderboard will be based on an unseen test set.\n",
    "```\n",
    "python scripts/score.py submission/submission.csv data/test_labels.csv\n",
    "```"
   ]
  },
  {
   "cell_type": "markdown",
   "id": "7825a7d6-d2ff-4741-af19-cc4332f688ee",
   "metadata": {},
   "source": [
    "### Submitting to the platform\n",
    "We're almost done. Assuming that our test run completed and the `submission.csv` looks correct, it's time to submit the code on the platform.\n",
    "\n",
    "* Go to the [competition submissions page](https://www.drivendata.org/competitions/260/spacecraft-detection/submissions/) and upload your `submission/submission.zip`.\n",
    "* Please be patient while your submission is uploaded and executed. Your job may be queued if other jobs are still pending.\n",
    "* You can track the status of your submission on the [Code Execution Status](https://www.drivendata.org/competitions/260/submissions/code/) page. Logs will become available once the submission begins processing. To see them click on \"View Log\".\n",
    "\n",
    "Once your submission has been successfully uploaded, you will see something like this on the [Code Execution Status](https://www.drivendata.org/competitions/260/submissions/code/) page:\n",
    "\n",
    "![code execution status](https://drivendata-public-assets.s3.amazonaws.com/spacecraft-benchmark-code-status.jpg)\n",
    "\n",
    "Please be patient while your code is running. You may want to follow the links to check the logs for your job, which are live updated as your code job progresses.\n",
    "\n",
    "Once your job has completed, head over to the [Submissions](https://www.drivendata.org/competitions/260/spacecraft-detection/submissions/) page where you should be able to see your score. It will look something like this, except that we're sure you can do better than the benchmark!\n",
    "\n",
    "![score](https://drivendata-public-assets.s3.amazonaws.com/spacecraft-benchmark-score.jpg)\n",
    "\n",
    "**That's it! You're on your way to creating your own code submission!**\n",
    "\n",
    "**Head over to the [competition](https://www.drivendata.org/competitions/260/spacecraft-detection/) homepage to get started. And have fun! We can't wait to see what you build!**"
   ]
  },
  {
   "cell_type": "markdown",
   "id": "b539e32c-7f87-456a-971c-b060210d046a",
   "metadata": {},
   "source": [
    "_Images courtesy of NASA._"
   ]
  }
 ],
 "metadata": {
  "kernelspec": {
   "display_name": "Python 3 (ipykernel)",
   "language": "python",
   "name": "python3"
  },
  "language_info": {
   "codemirror_mode": {
    "name": "ipython",
    "version": 3
   },
   "file_extension": ".py",
   "mimetype": "text/x-python",
   "name": "python",
   "nbconvert_exporter": "python",
   "pygments_lexer": "ipython3",
   "version": "3.10.13"
  }
 },
 "nbformat": 4,
 "nbformat_minor": 5
}
